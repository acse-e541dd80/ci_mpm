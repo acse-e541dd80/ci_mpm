{
 "cells": [
  {
   "cell_type": "markdown",
   "metadata": {
    "pycharm": {
     "name": "#%% md\n"
    }
   },
   "source": [
    "# Computational Mathematics <a class=\"tocSkip\">\n",
    "\n",
    "## 2022/23 Assessment <a class=\"tocSkip\">"
   ]
  },
  {
   "cell_type": "markdown",
   "metadata": {
    "pycharm": {
     "name": "#%% md\n"
    }
   },
   "source": [
    "## Release: 12PM (MIDDAY) Thursday 3 November 2022 <a class=\"tocSkip\">\n",
    "\n",
    "## Deadline: 4PM Friday 4th November 2022 <a class=\"tocSkip\">"
   ]
  },
  {
   "cell_type": "markdown",
   "metadata": {
    "pycharm": {
     "name": "#%% md\n"
    }
   },
   "source": [
    "# Instructions  <a class=\"tocSkip\">\n",
    "    \n",
    "\n",
    "- This is the assessed coursework for module \"Computational Mathematics\" for year 2022/23.\n",
    "\n",
    "\n",
    "- **This is independent work, you cannot work in groups.**\n",
    "\n",
    "\n",
    "- This notebook contains three questions. Please answer all questions.\n",
    "\n",
    "\n",
    "- You will be assessed on both your code as well as your supporting descriptions/discussions of the results you obtain.\n",
    "\n",
    "\n",
    "- You may use any library we used in lectures, and **you may reuse any code from lectures and homeworks**. If you use an algorithm not explicitly mentioned in the question, then please explain which algorithm you are using and why you have chosen it.\n",
    "\n",
    "\n",
    "- You should submit your solutions as a single self-contained Jupyter notebooks via Github classroom - **please submit a version where you have run all of the cells and all the outputs/plots etc are visible without the marker having to run the notebook themselves**.\n",
    "    \n",
    "    \n",
    "\n",
    "- If you are happy to write down your mathematical work in the form of Latex directly within this notebook then feel free to do this.\n",
    "\n",
    "\n",
    "- Alternatively you may if you choose submit parts of your answers via **scans or photos of hand written pages** - feel free to use this option in particular for supplementary sketches, equations or where I have asked you to complete a task with \"pen and paper\". You will not be marked down for not embedding equations into your markdown cells. Please make sure that the question number each sheet you scan refers to is very clear. Even if you embed the images within the notebook, please also commit the images files to your github submission."
   ]
  },
  {
   "cell_type": "markdown",
   "metadata": {
    "toc": true,
    "pycharm": {
     "name": "#%% md\n"
    }
   },
   "source": [
    "<h1>Table of Contents<span class=\"tocSkip\"></span></h1>\n",
    "<div class=\"toc\"><ul class=\"toc-item\"><li><span><a href=\"#Question-1\" data-toc-modified-id=\"Question-1-1\"><span class=\"toc-item-num\">1&nbsp;&nbsp;</span>Question 1</a></span></li><li><span><a href=\"#Question-2\" data-toc-modified-id=\"Question-2-2\"><span class=\"toc-item-num\">2&nbsp;&nbsp;</span>Question 2</a></span></li><li><span><a href=\"#Question-3\" data-toc-modified-id=\"Question-3-3\"><span class=\"toc-item-num\">3&nbsp;&nbsp;</span>Question 3</a></span></li></ul></div>"
   ]
  },
  {
   "cell_type": "code",
   "execution_count": 1,
   "metadata": {
    "pycharm": {
     "name": "#%%\n"
    }
   },
   "outputs": [],
   "source": [
    "%matplotlib inline\n",
    "import numpy as np\n",
    "import matplotlib.pyplot as plt\n",
    "from matplotlib.patches import Polygon\n",
    "from math import factorial\n",
    "from cProfile import label\n",
    "\n",
    "import scipy.interpolate as si\n",
    "import scipy.integrate as sig\n",
    "from mpltools import annotation\n"
   ]
  },
  {
   "cell_type": "markdown",
   "metadata": {
    "pycharm": {
     "name": "#%% md\n"
    }
   },
   "source": [
    "# Question 1\n",
    "\n",
    "Consider the following two statements\n",
    "\n",
    "<br>\n",
    "\n",
    "1. All models are wrong, but some are useful.\n",
    "\n",
    "\n",
    "2. A model may get the right answer for the wrong reason.\n",
    "\n",
    "<br>\n",
    "\n",
    "Where here we interpret a \"model\" as a piece of code written to provide a synthetic representation of some real world phenomena.\n",
    "\n",
    "<br>\n",
    "\n",
    "- Explain what each of these two statements means and why they are important. \n",
    "\n",
    "\n",
    "\n",
    "- What can we as \"model\" developers do to mitigate the issues that may be implied by these two statements.\n",
    "\n",
    "<br>\n",
    "\n",
    "The best answers (i.e. those that achieve the highest marks) will be clear, concise, show a depth of understanding, and synthesise material from across the module. You should provide examples to aid your explanations where appropriate, and you should not simply reuse text or examples directly from the lectures."
   ]
  },
  {
   "cell_type": "markdown",
   "metadata": {
    "pycharm": {
     "name": "#%% md\n"
    }
   },
   "source": [
    "# Answer for Question 1\n",
    "<br>\n",
    "1. All models are wrong, but some are useful.\n",
    "<br>\n",
    "\n",
    "The statement shows that no model can be used for any condition. For example, Clapeyron equation for the gas pressure calculation: \n",
    "<br>\n",
    "$$PV=nRT$$\n",
    "The construction of the model is only useful when the molecular spacing is infinite relative to the molecules, the forces between the molecules are negligible and the molecular volume is negligible, otherwise the model is wrong. \n",
    "<br>\n",
    "<br>\n",
    "\n",
    "In addition, all models cannot be represented in the most accurate numerical form in practical, as the composition in the real world cannot be measured and represented by a finite number of digits. For example, Taylor series, natural logarithm $e$ can be represented as:\n",
    "<br>\n",
    "$$ e= 1 + \\frac{1}{1!} + \\frac{1}{2!} + \\frac{1}{3!} + \\frac{1}{4!} + ....$$\n",
    "Taking the first 10 terms as the model to calculate $e$, the result is close to the irrational value but can't be equal to that."
   ]
  },
  {
   "cell_type": "code",
   "execution_count": 2,
   "metadata": {
    "pycharm": {
     "name": "#%%\n"
    }
   },
   "outputs": [
    {
     "name": "stdout",
     "output_type": "stream",
     "text": [
      "e for Taylor series:  2.7182815255731922\n",
      "Error to real e: 3.0288585284310443e-07\n",
      "The result is close to the real e: True\n"
     ]
    }
   ],
   "source": [
    "e = 1\n",
    "for i in range(1,10):\n",
    "    e += 1/factorial(i)\n",
    "print('e for Taylor series: ', e)\n",
    "print('Error to real e:', abs(e-np.exp(1)))\n",
    "print('The result is close to the real e:', np.isclose(e, np.exp(1)))"
   ]
  },
  {
   "cell_type": "markdown",
   "metadata": {
    "pycharm": {
     "name": "#%% md\n"
    }
   },
   "source": [
    "<br>\n",
    "2. A model may get the right answer for the wrong reason.\n",
    "<br>\n",
    "\n",
    "The statement means wrong model design. Different from the previous statement, the model is not useful because it may apply the results of a specific situation, thereby designing in an incorrect way. In the same system or based on the same principles, the output is wrong when the input is changed due to the wrong understading during model development. For example，it is known that a curve passing through points of $(0,0)$ and $(1,1)$, but after building the model by thinking it as a linear function, it cannot pass through all the points. \n"
   ]
  },
  {
   "cell_type": "code",
   "execution_count": 8,
   "outputs": [
    {
     "data": {
      "text/plain": "<matplotlib.legend.Legend at 0x17b55b340>"
     },
     "execution_count": 8,
     "metadata": {},
     "output_type": "execute_result"
    },
    {
     "data": {
      "text/plain": "<Figure size 500x400 with 1 Axes>",
      "image/png": "[encoded data removed]"
     },
     "metadata": {},
     "output_type": "display_data"
    }
   ],
   "source": [
    "x0 = [0, 1]\n",
    "y0 = [0, 1]\n",
    "x1 = [-1.5, -1, 0.5]\n",
    "y1 = [(-1.5)**2, (-1)**2, 0.5**2]\n",
    "x = np.linspace(-2, 2, 100)\n",
    "y = x**2\n",
    "fig = plt.figure(figsize=(5, 4))\n",
    "ax = fig.add_subplot(111)\n",
    "ax.set_title('Code verfication')\n",
    "ax.plot(x, x, 'b', label='created model')\n",
    "ax.plot(x, y, 'k', label='practical situation')\n",
    "ax.plot(x0, y0, 'r', label='applied data point')\n",
    "ax.plot(x1, y1, 'g', label='unsatisfied data point')\n",
    "ax.set_xlabel('$x$', fontsize=12)\n",
    "ax.set_ylabel('$y$', fontsize=12)\n",
    "ax.legend(loc='best', fontsize=12)"
   ],
   "metadata": {
    "collapsed": false,
    "pycharm": {
     "name": "#%%\n"
    }
   }
  },
  {
   "cell_type": "code",
   "execution_count": null,
   "outputs": [],
   "source": [],
   "metadata": {
    "collapsed": false,
    "pycharm": {
     "name": "#%%\n"
    }
   }
  }
 ],
 "metadata": {
  "celltoolbar": "Slideshow",
  "kernelspec": {
   "display_name": "Python 3.10.4 ('ese-msc')",
   "language": "python",
   "name": "python3"
  },
  "language_info": {
   "codemirror_mode": {
    "name": "ipython",
    "version": 3
   },
   "file_extension": ".py",
   "mimetype": "text/x-python",
   "name": "python",
   "nbconvert_exporter": "python",
   "pygments_lexer": "ipython3",
   "version": "3.10.4"
  },
  "latex_envs": {
   "LaTeX_envs_menu_present": true,
   "autoclose": false,
   "autocomplete": true,
   "bibliofile": "biblio.bib",
   "cite_by": "apalike",
   "current_citInitial": 1,
   "eqLabelWithNumbers": true,
   "eqNumInitial": 1,
   "hotkeys": {
    "equation": "Ctrl-E",
    "itemize": "Ctrl-I"
   },
   "labels_anchors": false,
   "latex_user_defs": false,
   "report_style_numbering": false,
   "user_envs_cfg": false
  },
  "toc": {
   "base_numbering": 1,
   "nav_menu": {},
   "number_sections": true,
   "sideBar": true,
   "skip_h1_title": false,
   "title_cell": "Table of Contents",
   "title_sidebar": "Contents",
   "toc_cell": true,
   "toc_position": {},
   "toc_section_display": true,
   "toc_window_display": false
  },
  "vscode": {
   "interpreter": {
    "hash": "0e1283531a1f39d343cb553b47f07f849b39febec36403cbff9bb62bd2cbf7db"
   }
  }
 },
 "nbformat": 4,
 "nbformat_minor": 1
}